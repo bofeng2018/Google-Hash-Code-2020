{
 "cells": [
  {
   "cell_type": "markdown",
   "metadata": {},
   "source": [
    "# Problem description"
   ]
  },
  {
   "cell_type": "markdown",
   "metadata": {},
   "source": [
    "You are organizing a Hash Code hub and want to order pizza for your hub’s participants. Luckily, there is a nearby pizzeria with really good pizza.\n",
    "\n",
    "The pizzeria has different types of pizza, and to keep the food offering for your hub interesting, you can only order at most one pizza of each type. Fortunately, there are many types of pizza to choose from!\n",
    "\n",
    "Each type of pizza has a specified size: the size is the number of slices in a pizza of this type.\n",
    "\n",
    "You estimated the maximum number of pizza slices that you want to order for your hub based on the number of registered participants. In order to reduce food waste, your goal is to order as many pizza slices as possible, but not more than the\n",
    "maximum number."
   ]
  },
  {
   "cell_type": "code",
   "execution_count": 1,
   "metadata": {},
   "outputs": [],
   "source": [
    "class pizza:\n",
    "    \"\"\"Return the maximum number of pizza slices possible.\"\"\"\n",
    "    def __init__(self, filepath):\n",
    "        with open(filepath, \"r\") as file:\n",
    "            dat = file.readlines()\n",
    "            self.bound, self.types = [int(item) for item in dat[0][:-1].split(\" \")]\n",
    "            self.slices = [int(item) for item in dat[1][:-1].split(\" \")]\n",
    "\n",
    "    def MaxPizza(self):\n",
    "        \"\"\"BFS - slow!\"\"\"\n",
    "        dicti = {0: []}\n",
    "        for i, s in enumerate(self.slices):\n",
    "            temp = {}\n",
    "            for d in dicti:\n",
    "                cur = s + d\n",
    "                if cur <= self.bound and cur not in dicti and cur not in temp:\n",
    "                    temp[cur] = dicti[d] + [i]\n",
    "            for t in temp:\n",
    "                dicti[t] = temp[t]\n",
    "        return dicti[max(dicti)]\n",
    "    \n",
    "    def MaxPizza2(self):\n",
    "        \"\"\"Knapsack - slow!!\"\"\"\n",
    "        ans = [[]] + [[] for i in range(self.bound)]\n",
    "        for i, s in enumerate(self.slices):\n",
    "            if self.bound == s or (self.bound > s and ans[self.bound - s]):\n",
    "                return ans[self.bound - s] + [i]\n",
    "            for b in range(self.bound - 1, s, -1):\n",
    "                if not ans[b] and ans[b - s]:\n",
    "                    ans[b] = ans[b - s] + [i]\n",
    "            if self.bound >= s and not ans[s]:\n",
    "                ans[s] = [i]\n",
    "        for i in range(self.bound, -1, -1):\n",
    "            if ans[i]:\n",
    "                return ans[i]\n",
    "        return []\n",
    "    \n",
    "    def MaxPizza3(self):\n",
    "        \"\"\"DFS - lightning-fast\"\"\"\n",
    "        n, ans = len(self.slices), [0]\n",
    "        cur, index = [0], n\n",
    "        while index:\n",
    "            index -= 1\n",
    "            for i in range(index, -1, -1):\n",
    "                if cur[0] + self.slices[i] <= self.bound:\n",
    "                    cur[0] += self.slices[i]\n",
    "                    cur.append(i)\n",
    "            if cur[0] == self.bound:\n",
    "                return cur[1:][::-1]\n",
    "            if cur[0] > ans[0]:\n",
    "                ans = cur.copy()\n",
    "            if len(cur) == 1 or (len(cur) == 2 and not cur[-1]):\n",
    "                break\n",
    "            if not cur[-1]:\n",
    "                cur[0] -= self.slices[cur.pop()]\n",
    "            index = cur.pop()\n",
    "            cur[0] -= self.slices[index]\n",
    "        return ans[1:][::-1]"
   ]
  },
  {
   "cell_type": "code",
   "execution_count": 2,
   "metadata": {},
   "outputs": [],
   "source": [
    "import os\n",
    "os.chdir(\"C:\\\\Users\\\\lnie\\\\Downloads\\\\Hash Code\")\n",
    "\n",
    "for name in [\"a_example\", \"b_small\", \"c_medium\", \"d_quite_big\", \"e_also_big\"]:\n",
    "    ans = pizza(name + \".in\").MaxPizza3()\n",
    "    file = open(name + \"_ans.in\", \"w\")\n",
    "    file.write(str(len(ans)) + \"\\n\")\n",
    "    file.write(\" \".join(str(a) for a in ans))\n",
    "    file.close()"
   ]
  },
  {
   "cell_type": "code",
   "execution_count": null,
   "metadata": {},
   "outputs": [],
   "source": []
  }
 ],
 "metadata": {
  "kernelspec": {
   "display_name": "Python 3",
   "language": "python",
   "name": "python3"
  },
  "language_info": {
   "codemirror_mode": {
    "name": "ipython",
    "version": 3
   },
   "file_extension": ".py",
   "mimetype": "text/x-python",
   "name": "python",
   "nbconvert_exporter": "python",
   "pygments_lexer": "ipython3",
   "version": "3.7.1"
  }
 },
 "nbformat": 4,
 "nbformat_minor": 2
}
